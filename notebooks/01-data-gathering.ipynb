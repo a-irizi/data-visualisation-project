{
 "cells": [
  {
   "cell_type": "markdown",
   "id": "2f6dfbf1-2809-4b00-8d4e-cdd7fc0f8dd5",
   "metadata": {
    "tags": []
   },
   "source": [
    "# Data Sources\n",
    "We will be using the [Canada Open Government Website](https://open.canada.ca/) to fetch data related to cars CO2 emmissions and gas prices.  \n",
    "We will use the following links:\n",
    "1. [Fuel Consumption Ratings](https://open.canada.ca/data/en/dataset/98f1a129-f628-4ce4-b24d-6f16bf24dd64#wb-auto-6)\n",
    "2. [Fuels Price Survey](https://open.canada.ca/data/en/dataset/c6ec6da3-2a8c-4b67-b59e-1d567efdaeac)"
   ]
  },
  {
   "cell_type": "markdown",
   "id": "3f28851d-2963-49a9-9961-944a671b744b",
   "metadata": {
    "tags": []
   },
   "source": [
    "# Gathering Data\n",
    "We will be using the `request` package to get the webpages/files, and the `beautifoulsoup` library for web scraping."
   ]
  },
  {
   "cell_type": "code",
   "execution_count": 1,
   "id": "f8887005-71e9-4fec-be9f-ee5b725c6fe6",
   "metadata": {},
   "outputs": [],
   "source": [
    "import requests\n",
    "from bs4 import BeautifulSoup"
   ]
  },
  {
   "cell_type": "markdown",
   "id": "9f06c0b3-a013-4704-b5f0-0053258bb723",
   "metadata": {},
   "source": [
    "## Get The Web Page"
   ]
  },
  {
   "cell_type": "code",
   "execution_count": 2,
   "id": "8c075110-30f1-46a7-9b53-9fcfabfd9d5d",
   "metadata": {},
   "outputs": [],
   "source": [
    "r_fc = requests.get(\"https://open.canada.ca/data/en/dataset/98f1a129-f628-4ce4-b24d-6f16bf24dd64#wb-auto-6\")"
   ]
  },
  {
   "cell_type": "code",
   "execution_count": 3,
   "id": "8c9da400-8cb1-4a75-9443-db4ac5709538",
   "metadata": {},
   "outputs": [],
   "source": [
    "r_fp = requests.get(\"https://open.canada.ca/data/en/dataset/c6ec6da3-2a8c-4b67-b59e-1d567efdaeac\")"
   ]
  },
  {
   "cell_type": "markdown",
   "id": "a4289ced-9cd9-4789-b2ca-e87a427a9468",
   "metadata": {},
   "source": [
    "## Scrap The Web Page\n",
    "### Utility functions"
   ]
  },
  {
   "cell_type": "code",
   "execution_count": 4,
   "id": "73b57d43-63ea-4d02-be65-5145330bae14",
   "metadata": {},
   "outputs": [],
   "source": [
    "import re"
   ]
  },
  {
   "cell_type": "code",
   "execution_count": 5,
   "id": "7c0bfaac-4ce2-4d97-a88d-c3290abe96a0",
   "metadata": {},
   "outputs": [],
   "source": [
    "def is_downloadable(url):\n",
    "    h = requests.head(url, allow_redirects=True)\n",
    "    header = h.headers\n",
    "    content_type = header.get('content-type')\n",
    "\n",
    "    if 'html' in content_type.lower():\n",
    "        return False\n",
    "    return True"
   ]
  },
  {
   "cell_type": "code",
   "execution_count": 6,
   "id": "803c48b4-8462-49a5-9443-e3ab13a1ae3e",
   "metadata": {},
   "outputs": [],
   "source": [
    "def get_filename_from_cd(cd):\n",
    "    if not cd:\n",
    "        return None\n",
    "    fname = re.findall('filename=(.+)', cd)\n",
    "    if len(fname) == 0:\n",
    "        return None\n",
    "    return fname[0]"
   ]
  },
  {
   "cell_type": "code",
   "execution_count": 7,
   "id": "c4e2e603-caf8-4a70-92d7-e848dca7059d",
   "metadata": {},
   "outputs": [],
   "source": [
    "def get_filename_from_url(url):\n",
    "    return url.rsplit('/', 1)[1].replace(\"%20\", \"-\")"
   ]
  },
  {
   "cell_type": "markdown",
   "id": "ee09b12c-0d88-49cc-ba78-72ea9c231953",
   "metadata": {},
   "source": [
    "### Fuel Consumption Metadata\n",
    "To get the files links, we should:\n",
    "1. scrape all lists with the `class` attribute of `resource-item`\n",
    "2. for each list, get the first link, the link's text contain information about the data contained in the files\n",
    "3. for each list, get the link with the `class` attribute of `btn btn-primary btn-sm resource-url-analytics`, the link's `href` attribute contains the link to the file."
   ]
  },
  {
   "cell_type": "code",
   "execution_count": 8,
   "id": "90b81bff-9c78-497e-973e-1d9a39f4747d",
   "metadata": {},
   "outputs": [],
   "source": [
    "# fc - fuel consumption\n",
    "scrapper_fc = BeautifulSoup(r_fc.text, \"lxml\")\n",
    "body_fc = scrapper_fc.body"
   ]
  },
  {
   "cell_type": "code",
   "execution_count": 9,
   "id": "2c31c2d5-1420-4b75-953a-45db286b29cb",
   "metadata": {
    "tags": []
   },
   "outputs": [],
   "source": [
    "fc_files_links = []"
   ]
  },
  {
   "cell_type": "code",
   "execution_count": 10,
   "id": "cf82ccb8-cb4c-4c42-91a9-3ad28a01e167",
   "metadata": {},
   "outputs": [],
   "source": [
    "def scrap_data(x):\n",
    "    item_description = x.a.text.strip()\n",
    "    item_link = x.find(\"a\", attrs={\"class\": \"btn btn-primary btn-sm resource-url-analytics\"})[\"href\"]\n",
    "    item_file_name = get_filename_from_url(item_link)\n",
    "    \n",
    "    link = {\"description\": item_description, \"link\": item_link, \"file_name\": item_file_name}\n",
    "    \n",
    "    return link"
   ]
  },
  {
   "cell_type": "code",
   "execution_count": 11,
   "id": "a880c6fd-f70c-4dcf-a7f3-d97495d637b4",
   "metadata": {
    "tags": []
   },
   "outputs": [],
   "source": [
    "for li in body_fc.find_all(\"li\", attrs={\"class\": \"resource-item\"}):\n",
    "    fc_files_links.append(scrap_data(li))"
   ]
  },
  {
   "cell_type": "markdown",
   "id": "93b7c0a6-7f8f-458c-97e0-693d8891dece",
   "metadata": {},
   "source": [
    "### Fuel Prices Metadata"
   ]
  },
  {
   "cell_type": "code",
   "execution_count": 12,
   "id": "a034ef42-2771-4ad5-b8ee-a40c07802b06",
   "metadata": {},
   "outputs": [],
   "source": [
    "# fp - fuel prices\n",
    "scrapper_fp = BeautifulSoup(r_fp.text, \"lxml\")\n",
    "body_fp = scrapper_fp.body"
   ]
  },
  {
   "cell_type": "code",
   "execution_count": 13,
   "id": "4e7f450c-f445-4c9f-a3c1-5624ab436cf0",
   "metadata": {
    "tags": []
   },
   "outputs": [
    {
     "data": {
      "text/plain": [
       "[{'description': 'Fuels price survey informationCSV',\n",
       "  'link': 'https://ontario.ca/v1/files/fuel-prices/fueltypesall.csv',\n",
       "  'file_name': 'fueltypesall.csv'},\n",
       " {'description': 'Data dictionaryXLSX',\n",
       "  'link': 'https://files.ontario.ca/fuelsdatadictionary_0.xlsx',\n",
       "  'file_name': 'fuelsdatadictionary_0.xlsx'},\n",
       " {'description': 'Dictionnaire des donnéesXLSX',\n",
       "  'link': 'https://files.ontario.ca/fuelsdatadictionary_fre.xlsx',\n",
       "  'file_name': 'fuelsdatadictionary_fre.xlsx'}]"
      ]
     },
     "execution_count": 13,
     "metadata": {},
     "output_type": "execute_result"
    }
   ],
   "source": [
    "fp_files_links = []\n",
    "\n",
    "for li in body_fp.find_all(\"li\", attrs={\"class\": \"resource-item\"}):\n",
    "    item_description = li.a.text.strip()\n",
    "    item_link = li.find(\"a\", attrs={\"class\": \"btn btn-primary btn-sm resource-url-analytics\"})[\"href\"]\n",
    "    item_file_name = get_filename_from_url(item_link)\n",
    "\n",
    "    link = {\"description\": item_description, \"link\": item_link, \"file_name\": item_file_name}\n",
    "    if is_downloadable(item_link):\n",
    "        fp_files_links.append(link)\n",
    "        \n",
    "fp_files_links"
   ]
  },
  {
   "cell_type": "markdown",
   "id": "6aecd3a1-1a1a-4e52-aeaf-9633b4290075",
   "metadata": {
    "tags": []
   },
   "source": [
    "## Files Downloads\n",
    "The next step is to download the files using the links we have already scraped."
   ]
  },
  {
   "cell_type": "code",
   "execution_count": 14,
   "id": "95e38fee-b474-4466-a52b-1e1065e40c6b",
   "metadata": {},
   "outputs": [],
   "source": [
    "import pandas as pd"
   ]
  },
  {
   "cell_type": "code",
   "execution_count": 15,
   "id": "4753a338-6fdc-4bf6-848e-1ee6e1ddc0ff",
   "metadata": {
    "tags": []
   },
   "outputs": [],
   "source": [
    "def download_files(files_links, base_dir):\n",
    "    for item in files_links:\n",
    "        if is_downloadable(item['link']):\n",
    "            r = requests.get(item['link'], allow_redirects=True)\n",
    "\n",
    "            if r.encoding != None:\n",
    "                with open(f\"{base_dir}/{item['file_name']}\", \"w\", encoding=\"utf-8\") as f:\n",
    "                    f.writelines(r.content.decode(r.encoding))\n",
    "            else:\n",
    "                with open(f\"{base_dir}/{item['file_name']}\", \"wb\") as f:\n",
    "                    f.write(r.content)\n",
    "            "
   ]
  },
  {
   "cell_type": "code",
   "execution_count": 16,
   "id": "f53c0fcf-bec0-4aea-a38b-ab3630eaf165",
   "metadata": {
    "tags": []
   },
   "outputs": [],
   "source": [
    "download_files(fc_files_links, \"../raw_data/fuel_consumption\")"
   ]
  },
  {
   "cell_type": "code",
   "execution_count": 17,
   "id": "03c670c1-49eb-480b-b50a-c2158db59e42",
   "metadata": {
    "tags": []
   },
   "outputs": [],
   "source": [
    "download_files(fp_files_links, \"../raw_data/fuel_prices\")"
   ]
  },
  {
   "cell_type": "markdown",
   "id": "13144c5a-015c-4ddf-b273-7d6bb4588fe9",
   "metadata": {},
   "source": [
    "## Store The Metadata In JSON File For Offline Access\n",
    "To facilitate metadata inspection, store it in a `JSON` file (This is optional):"
   ]
  },
  {
   "cell_type": "code",
   "execution_count": 18,
   "id": "b75157ad-5f05-4a73-b232-b249879c486b",
   "metadata": {},
   "outputs": [],
   "source": [
    "import json"
   ]
  },
  {
   "cell_type": "code",
   "execution_count": 20,
   "id": "05052988-1316-47bd-acdc-41f008bf09ee",
   "metadata": {
    "tags": []
   },
   "outputs": [],
   "source": [
    "with open(\"../raw_data/fuel_consumption/meta_data/fuel_consumption_ratings_sources.json\", \"w\") as f:\n",
    "    f.writelines(json.dumps(fc_files_links, indent=4))"
   ]
  },
  {
   "cell_type": "code",
   "execution_count": 21,
   "id": "525482bc-c9c9-4dfd-bff5-49a9341118eb",
   "metadata": {
    "tags": []
   },
   "outputs": [],
   "source": [
    "with open(\"../raw_data/fuel_prices/meta_data/fuel_price_survey_sources.json\", \"w\") as f:\n",
    "    f.writelines(json.dumps(fp_files_links, indent=4))"
   ]
  }
 ],
 "metadata": {
  "kernelspec": {
   "display_name": "Python 3 (ipykernel)",
   "language": "python",
   "name": "python3"
  },
  "language_info": {
   "codemirror_mode": {
    "name": "ipython",
    "version": 3
   },
   "file_extension": ".py",
   "mimetype": "text/x-python",
   "name": "python",
   "nbconvert_exporter": "python",
   "pygments_lexer": "ipython3",
   "version": "3.11.1"
  }
 },
 "nbformat": 4,
 "nbformat_minor": 5
}
