{
 "cells": [
  {
   "cell_type": "code",
   "execution_count": 1,
   "id": "a24da10f-33d3-4027-b87f-bb0808fcfed6",
   "metadata": {},
   "outputs": [],
   "source": [
    "import pandas as pd\n",
    "import numpy as nm\n",
    "import glob"
   ]
  },
  {
   "cell_type": "markdown",
   "id": "02abc570-93e8-485f-89ac-6534a3f39fbf",
   "metadata": {
    "tags": []
   },
   "source": [
    "# Fuel Consumption Ratings\n",
    "We will start by defining the column names.\n",
    "> the column `fc_combined_mpg` is not ment to be kept, it is defined to facilitate droping it later\n",
    "> using the `drop` function."
   ]
  },
  {
   "cell_type": "code",
   "execution_count": 2,
   "id": "546642e7-a173-4758-9af7-266e6ba1e049",
   "metadata": {},
   "outputs": [],
   "source": [
    "fc_df_columns = ['model_year', 'make', 'model_name', 'vehicle_class', 'engine_size', 'cylinders', 'transmission', 'fuel_type', 'fc_city', 'fc_highway', 'fc_combined','fc_combined_mpg', 'co2_emissions']"
   ]
  },
  {
   "cell_type": "markdown",
   "id": "2aeefedc-7b8a-4f04-a71a-7195436da801",
   "metadata": {},
   "source": [
    "For each csv file, read the content into a dataframe and apply some cleaning, after that collect all the dataframes into a list."
   ]
  },
  {
   "cell_type": "code",
   "execution_count": 3,
   "id": "a03ae2ec-ff78-4ba1-a099-24a8d9b6d47e",
   "metadata": {
    "tags": []
   },
   "outputs": [
    {
     "name": "stderr",
     "output_type": "stream",
     "text": [
      "C:\\Users\\dell\\AppData\\Local\\Temp\\ipykernel_10004\\2172513345.py:5: DtypeWarning: Columns (0) have mixed types. Specify dtype option on import or set low_memory=False.\n",
      "  df_temp = pd.read_csv(file_name, skiprows=[0, 1, 2])\n",
      "C:\\Users\\dell\\AppData\\Local\\Temp\\ipykernel_10004\\2172513345.py:5: DtypeWarning: Columns (0,1,2,3,6,7) have mixed types. Specify dtype option on import or set low_memory=False.\n",
      "  df_temp = pd.read_csv(file_name, skiprows=[0, 1, 2])\n",
      "C:\\Users\\dell\\AppData\\Local\\Temp\\ipykernel_10004\\2172513345.py:5: DtypeWarning: Columns (0,1,2,3,6,7) have mixed types. Specify dtype option on import or set low_memory=False.\n",
      "  df_temp = pd.read_csv(file_name, skiprows=[0, 1, 2])\n",
      "C:\\Users\\dell\\AppData\\Local\\Temp\\ipykernel_10004\\2172513345.py:5: DtypeWarning: Columns (0,1,2,3,6,7) have mixed types. Specify dtype option on import or set low_memory=False.\n",
      "  df_temp = pd.read_csv(file_name, skiprows=[0, 1, 2])\n"
     ]
    }
   ],
   "source": [
    "fc_df_array = []\n",
    "\n",
    "for file_name in glob.glob(\"../raw_data/fuel_consumption/MY*Ratings*.csv\"):\n",
    "    # skip the header rows\n",
    "    df_temp = pd.read_csv(file_name, skiprows=[0, 1, 2])\n",
    "    # drop all empty lines and columns\n",
    "    df_temp.dropna(how='all', axis='columns', inplace=True)\n",
    "    df_temp.dropna(how='all', axis='index', inplace=True)\n",
    "    \n",
    "    # remove embeded data-dictionary\n",
    "    df_temp = df_temp.iloc[:-23]\n",
    "\n",
    "    \n",
    "    # from 2017 to 2022, there are two additional columns added\n",
    "    # for the sake of having a bigger dataset, we'll remove\n",
    "    # those two columns\n",
    "    if df_temp.shape[1] > 13:\n",
    "        df_temp = df_temp.iloc[:-23, :13]\n",
    "    else:\n",
    "         df_temp = df_temp.iloc[:-23, :]\n",
    "\n",
    "    # provide column names\n",
    "    df_temp.columns = fc_df_columns\n",
    "    \n",
    "    #drop uneeded columns\n",
    "    df_temp.drop(labels=\"fc_combined_mpg\", axis=\"columns\", inplace=True)\n",
    "\n",
    "    fc_df_array.append(df_temp)"
   ]
  },
  {
   "cell_type": "markdown",
   "id": "5620d171-ec92-4115-b7e4-535473fbe743",
   "metadata": {},
   "source": [
    "Merge all the dataframes using the column names"
   ]
  },
  {
   "cell_type": "code",
   "execution_count": 4,
   "id": "adf0fac0-6e05-4363-973d-7b83c9a03c0b",
   "metadata": {
    "tags": []
   },
   "outputs": [],
   "source": [
    "fc_df = pd.concat(fc_df_array, ignore_index=True)"
   ]
  },
  {
   "cell_type": "markdown",
   "id": "30744322-80a9-4a35-8ba2-bf7652afe7ad",
   "metadata": {},
   "source": [
    "Some columns are not of the correct datatype, while for other columns we need to change the values into more readable ones."
   ]
  },
  {
   "cell_type": "code",
   "execution_count": 5,
   "id": "2b9897bf-e533-47bd-af43-ee2f8b52b5c4",
   "metadata": {
    "tags": []
   },
   "outputs": [
    {
     "name": "stdout",
     "output_type": "stream",
     "text": [
      "<class 'pandas.core.frame.DataFrame'>\n",
      "RangeIndex: 25866 entries, 0 to 25865\n",
      "Data columns (total 12 columns):\n",
      " #   Column         Non-Null Count  Dtype  \n",
      "---  ------         --------------  -----  \n",
      " 0   model_year     25866 non-null  object \n",
      " 1   make           25866 non-null  object \n",
      " 2   model_name     25866 non-null  object \n",
      " 3   vehicle_class  25866 non-null  object \n",
      " 4   engine_size    25866 non-null  float64\n",
      " 5   cylinders      25866 non-null  float64\n",
      " 6   transmission   25866 non-null  object \n",
      " 7   fuel_type      25866 non-null  object \n",
      " 8   fc_city        25866 non-null  float64\n",
      " 9   fc_highway     25866 non-null  float64\n",
      " 10  fc_combined    25866 non-null  float64\n",
      " 11  co2_emissions  25866 non-null  float64\n",
      "dtypes: float64(6), object(6)\n",
      "memory usage: 2.4+ MB\n"
     ]
    }
   ],
   "source": [
    "fc_df.info()"
   ]
  },
  {
   "cell_type": "code",
   "execution_count": 6,
   "id": "6869ffbb-5952-495a-8007-d61ad7df4ea8",
   "metadata": {},
   "outputs": [],
   "source": [
    "fc_df = fc_df.astype({\"model_year\": nm.int64, 'cylinders': nm.int64, \"co2_emissions\": nm.int64})"
   ]
  },
  {
   "cell_type": "code",
   "execution_count": 7,
   "id": "485edf5c-620d-4438-8f5b-7b4fae22b154",
   "metadata": {
    "tags": []
   },
   "outputs": [
    {
     "name": "stdout",
     "output_type": "stream",
     "text": [
      "<class 'pandas.core.frame.DataFrame'>\n",
      "RangeIndex: 25866 entries, 0 to 25865\n",
      "Data columns (total 12 columns):\n",
      " #   Column         Non-Null Count  Dtype  \n",
      "---  ------         --------------  -----  \n",
      " 0   model_year     25866 non-null  int64  \n",
      " 1   make           25866 non-null  object \n",
      " 2   model_name     25866 non-null  object \n",
      " 3   vehicle_class  25866 non-null  object \n",
      " 4   engine_size    25866 non-null  float64\n",
      " 5   cylinders      25866 non-null  int64  \n",
      " 6   transmission   25866 non-null  object \n",
      " 7   fuel_type      25866 non-null  object \n",
      " 8   fc_city        25866 non-null  float64\n",
      " 9   fc_highway     25866 non-null  float64\n",
      " 10  fc_combined    25866 non-null  float64\n",
      " 11  co2_emissions  25866 non-null  int64  \n",
      "dtypes: float64(4), int64(3), object(5)\n",
      "memory usage: 2.4+ MB\n"
     ]
    }
   ],
   "source": [
    "fc_df.info()"
   ]
  },
  {
   "cell_type": "code",
   "execution_count": 8,
   "id": "8ec04f8a-a998-413c-9a62-b71492aaa07d",
   "metadata": {},
   "outputs": [],
   "source": [
    "def fuel_type_name(short_name):\n",
    "    long_name = None\n",
    "    if short_name == \"X\":\n",
    "        long_name = \"regular gasoline\"\n",
    "    elif short_name == \"Z\":\n",
    "        long_name = \"premium gasoline\"\n",
    "    elif short_name == \"D\":\n",
    "        long_name = \"diesel\"\n",
    "    elif short_name == \"E\":\n",
    "        long_name = \"ethanol e85\"\n",
    "    elif short_name == \"N\":\n",
    "        long_name = \"natural gaz\"\n",
    "    else:\n",
    "        raise ValueError(\"fuel type not recognized\")\n",
    "    \n",
    "    return long_name\n",
    "\n",
    "fc_df['fuel_type'] = fc_df['fuel_type'].map(fuel_type_name)"
   ]
  },
  {
   "cell_type": "code",
   "execution_count": 9,
   "id": "d955ee4c-fb4b-4e51-85fa-df7b1ca4133f",
   "metadata": {
    "tags": []
   },
   "outputs": [
    {
     "data": {
      "text/plain": [
       "array(['regular gasoline', 'premium gasoline', 'diesel', 'natural gaz',\n",
       "       'ethanol e85'], dtype=object)"
      ]
     },
     "execution_count": 9,
     "metadata": {},
     "output_type": "execute_result"
    }
   ],
   "source": [
    "fc_df['fuel_type'].unique()"
   ]
  },
  {
   "cell_type": "code",
   "execution_count": 10,
   "id": "d151ee42-d0c6-4dba-9bcb-337ea9117fa4",
   "metadata": {},
   "outputs": [],
   "source": [
    "fc_df.to_csv(\"../data/fuel_consumption_ratings.csv\", index=False)"
   ]
  },
  {
   "cell_type": "markdown",
   "id": "5808f509-f706-478e-9e45-e4405f9d0cc4",
   "metadata": {},
   "source": [
    "# Fuel Prices\n",
    "The discription of this dataset is the following:\n",
    "> This dataset contains weekly retail prices of three grades of gasoline, diesel, auto propane and compressed natural gas in 10 Ontario markets. Prices are in cents per litre (with compressed natural gas prices in cents per gasoline-equivalent litres)\n",
    "\n",
    "We are only interested in the price of each year. To aggregate the values, we will choose the **median** price for all regions in a single week to represent the fuel price for that week, and then get the **median** price for all weeks in a year."
   ]
  },
  {
   "cell_type": "code",
   "execution_count": 11,
   "id": "79147a56-43a5-4543-bae2-765bb6ea642c",
   "metadata": {},
   "outputs": [],
   "source": [
    "import numpy as nm"
   ]
  },
  {
   "cell_type": "code",
   "execution_count": 12,
   "id": "f66c5c30-16c5-4977-9abc-56195fa95dc3",
   "metadata": {
    "tags": []
   },
   "outputs": [
    {
     "data": {
      "text/html": [
       "<div>\n",
       "<style scoped>\n",
       "    .dataframe tbody tr th:only-of-type {\n",
       "        vertical-align: middle;\n",
       "    }\n",
       "\n",
       "    .dataframe tbody tr th {\n",
       "        vertical-align: top;\n",
       "    }\n",
       "\n",
       "    .dataframe thead th {\n",
       "        text-align: right;\n",
       "    }\n",
       "</style>\n",
       "<table border=\"1\" class=\"dataframe\">\n",
       "  <thead>\n",
       "    <tr style=\"text-align: right;\">\n",
       "      <th></th>\n",
       "      <th>Date</th>\n",
       "      <th>Ottawa</th>\n",
       "      <th>Toronto West/Ouest</th>\n",
       "      <th>Toronto East/Est</th>\n",
       "      <th>Windsor</th>\n",
       "      <th>London</th>\n",
       "      <th>Peterborough</th>\n",
       "      <th>St. Catharine's</th>\n",
       "      <th>Sudbury</th>\n",
       "      <th>Sault Saint Marie</th>\n",
       "      <th>Thunder Bay</th>\n",
       "      <th>North Bay</th>\n",
       "      <th>Timmins</th>\n",
       "      <th>Kenora</th>\n",
       "      <th>Parry Sound</th>\n",
       "      <th>Ontario Average/Moyenne provinciale</th>\n",
       "      <th>Southern Average/Moyenne du sud de l'Ontario</th>\n",
       "      <th>Northern Average/Moyenne du nord de l'Ontario</th>\n",
       "      <th>Fuel Type</th>\n",
       "      <th>Type de carburant</th>\n",
       "    </tr>\n",
       "  </thead>\n",
       "  <tbody>\n",
       "    <tr>\n",
       "      <th>0</th>\n",
       "      <td>1990-01-03</td>\n",
       "      <td>55.9</td>\n",
       "      <td>49.1</td>\n",
       "      <td>48.7</td>\n",
       "      <td>45.2</td>\n",
       "      <td>50.1</td>\n",
       "      <td>0.0</td>\n",
       "      <td>0.0</td>\n",
       "      <td>56.4</td>\n",
       "      <td>54.8</td>\n",
       "      <td>56.6</td>\n",
       "      <td>55.1</td>\n",
       "      <td>58.1</td>\n",
       "      <td>0.0</td>\n",
       "      <td>0.0</td>\n",
       "      <td>50.3</td>\n",
       "      <td>49.5</td>\n",
       "      <td>56.2</td>\n",
       "      <td>Regular Unleaded Gasoline</td>\n",
       "      <td>Essence sans plomb</td>\n",
       "    </tr>\n",
       "    <tr>\n",
       "      <th>1</th>\n",
       "      <td>1990-01-10</td>\n",
       "      <td>55.9</td>\n",
       "      <td>47.7</td>\n",
       "      <td>46.8</td>\n",
       "      <td>49.7</td>\n",
       "      <td>47.6</td>\n",
       "      <td>0.0</td>\n",
       "      <td>0.0</td>\n",
       "      <td>56.4</td>\n",
       "      <td>54.9</td>\n",
       "      <td>56.8</td>\n",
       "      <td>55.0</td>\n",
       "      <td>58.2</td>\n",
       "      <td>0.0</td>\n",
       "      <td>0.0</td>\n",
       "      <td>49.2</td>\n",
       "      <td>48.3</td>\n",
       "      <td>56.2</td>\n",
       "      <td>Regular Unleaded Gasoline</td>\n",
       "      <td>Essence sans plomb</td>\n",
       "    </tr>\n",
       "    <tr>\n",
       "      <th>2</th>\n",
       "      <td>1990-01-17</td>\n",
       "      <td>55.9</td>\n",
       "      <td>53.2</td>\n",
       "      <td>53.2</td>\n",
       "      <td>49.6</td>\n",
       "      <td>53.7</td>\n",
       "      <td>0.0</td>\n",
       "      <td>0.0</td>\n",
       "      <td>55.8</td>\n",
       "      <td>54.9</td>\n",
       "      <td>56.8</td>\n",
       "      <td>54.4</td>\n",
       "      <td>58.2</td>\n",
       "      <td>0.0</td>\n",
       "      <td>0.0</td>\n",
       "      <td>53.6</td>\n",
       "      <td>53.3</td>\n",
       "      <td>56.0</td>\n",
       "      <td>Regular Unleaded Gasoline</td>\n",
       "      <td>Essence sans plomb</td>\n",
       "    </tr>\n",
       "    <tr>\n",
       "      <th>3</th>\n",
       "      <td>1990-01-24</td>\n",
       "      <td>55.9</td>\n",
       "      <td>53.2</td>\n",
       "      <td>53.5</td>\n",
       "      <td>49.0</td>\n",
       "      <td>52.1</td>\n",
       "      <td>0.0</td>\n",
       "      <td>0.0</td>\n",
       "      <td>55.7</td>\n",
       "      <td>54.9</td>\n",
       "      <td>56.8</td>\n",
       "      <td>54.3</td>\n",
       "      <td>58.2</td>\n",
       "      <td>0.0</td>\n",
       "      <td>0.0</td>\n",
       "      <td>53.5</td>\n",
       "      <td>53.2</td>\n",
       "      <td>56.0</td>\n",
       "      <td>Regular Unleaded Gasoline</td>\n",
       "      <td>Essence sans plomb</td>\n",
       "    </tr>\n",
       "    <tr>\n",
       "      <th>4</th>\n",
       "      <td>1990-01-31</td>\n",
       "      <td>55.9</td>\n",
       "      <td>51.9</td>\n",
       "      <td>52.6</td>\n",
       "      <td>48.6</td>\n",
       "      <td>49.1</td>\n",
       "      <td>0.0</td>\n",
       "      <td>0.0</td>\n",
       "      <td>55.6</td>\n",
       "      <td>54.8</td>\n",
       "      <td>56.8</td>\n",
       "      <td>54.2</td>\n",
       "      <td>58.1</td>\n",
       "      <td>0.0</td>\n",
       "      <td>0.0</td>\n",
       "      <td>52.5</td>\n",
       "      <td>52.1</td>\n",
       "      <td>55.9</td>\n",
       "      <td>Regular Unleaded Gasoline</td>\n",
       "      <td>Essence sans plomb</td>\n",
       "    </tr>\n",
       "  </tbody>\n",
       "</table>\n",
       "</div>"
      ],
      "text/plain": [
       "         Date  Ottawa  Toronto West/Ouest  Toronto East/Est  Windsor  London  \\\n",
       "0  1990-01-03    55.9                49.1              48.7     45.2    50.1   \n",
       "1  1990-01-10    55.9                47.7              46.8     49.7    47.6   \n",
       "2  1990-01-17    55.9                53.2              53.2     49.6    53.7   \n",
       "3  1990-01-24    55.9                53.2              53.5     49.0    52.1   \n",
       "4  1990-01-31    55.9                51.9              52.6     48.6    49.1   \n",
       "\n",
       "   Peterborough  St. Catharine's  Sudbury  Sault Saint Marie  Thunder Bay  \\\n",
       "0           0.0              0.0     56.4               54.8         56.6   \n",
       "1           0.0              0.0     56.4               54.9         56.8   \n",
       "2           0.0              0.0     55.8               54.9         56.8   \n",
       "3           0.0              0.0     55.7               54.9         56.8   \n",
       "4           0.0              0.0     55.6               54.8         56.8   \n",
       "\n",
       "   North Bay  Timmins  Kenora  Parry Sound  \\\n",
       "0       55.1     58.1     0.0          0.0   \n",
       "1       55.0     58.2     0.0          0.0   \n",
       "2       54.4     58.2     0.0          0.0   \n",
       "3       54.3     58.2     0.0          0.0   \n",
       "4       54.2     58.1     0.0          0.0   \n",
       "\n",
       "   Ontario Average/Moyenne provinciale  \\\n",
       "0                                 50.3   \n",
       "1                                 49.2   \n",
       "2                                 53.6   \n",
       "3                                 53.5   \n",
       "4                                 52.5   \n",
       "\n",
       "   Southern Average/Moyenne du sud de l'Ontario  \\\n",
       "0                                          49.5   \n",
       "1                                          48.3   \n",
       "2                                          53.3   \n",
       "3                                          53.2   \n",
       "4                                          52.1   \n",
       "\n",
       "   Northern Average/Moyenne du nord de l'Ontario                  Fuel Type  \\\n",
       "0                                           56.2  Regular Unleaded Gasoline   \n",
       "1                                           56.2  Regular Unleaded Gasoline   \n",
       "2                                           56.0  Regular Unleaded Gasoline   \n",
       "3                                           56.0  Regular Unleaded Gasoline   \n",
       "4                                           55.9  Regular Unleaded Gasoline   \n",
       "\n",
       "    Type de carburant  \n",
       "0  Essence sans plomb  \n",
       "1  Essence sans plomb  \n",
       "2  Essence sans plomb  \n",
       "3  Essence sans plomb  \n",
       "4  Essence sans plomb  "
      ]
     },
     "execution_count": 12,
     "metadata": {},
     "output_type": "execute_result"
    }
   ],
   "source": [
    "fp_df = pd.read_csv(\"../raw_data/fuel_prices/fueltypesall.csv\")\n",
    "fp_df.head()"
   ]
  },
  {
   "cell_type": "markdown",
   "id": "87afb2df-d51a-446d-8b9a-3848b3da522c",
   "metadata": {},
   "source": [
    "the column `Type de carburant` is the french translation of the column `Fuel Type`, we will drop it."
   ]
  },
  {
   "cell_type": "code",
   "execution_count": 13,
   "id": "1e11e3aa-f4b8-42ea-80e0-98567bb7ff18",
   "metadata": {},
   "outputs": [],
   "source": [
    "fp_df.drop(labels=\"Type de carburant\", axis=\"columns\", inplace=True)"
   ]
  },
  {
   "cell_type": "code",
   "execution_count": 14,
   "id": "c4f31f65-b13e-44e2-8078-2bb3e11bb195",
   "metadata": {},
   "outputs": [
    {
     "name": "stdout",
     "output_type": "stream",
     "text": [
      "<class 'pandas.core.frame.DataFrame'>\n",
      "RangeIndex: 10238 entries, 0 to 10237\n",
      "Data columns (total 19 columns):\n",
      " #   Column                                         Non-Null Count  Dtype  \n",
      "---  ------                                         --------------  -----  \n",
      " 0   Date                                           10238 non-null  object \n",
      " 1   Ottawa                                         10238 non-null  float64\n",
      " 2   Toronto West/Ouest                             10238 non-null  float64\n",
      " 3   Toronto East/Est                               10238 non-null  float64\n",
      " 4   Windsor                                        10238 non-null  float64\n",
      " 5   London                                         10238 non-null  float64\n",
      " 6   Peterborough                                   10238 non-null  float64\n",
      " 7   St. Catharine's                                10238 non-null  float64\n",
      " 8   Sudbury                                        10238 non-null  float64\n",
      " 9   Sault Saint Marie                              10238 non-null  float64\n",
      " 10  Thunder Bay                                    10238 non-null  float64\n",
      " 11  North Bay                                      10238 non-null  float64\n",
      " 12  Timmins                                        10238 non-null  float64\n",
      " 13  Kenora                                         10238 non-null  float64\n",
      " 14  Parry Sound                                    10238 non-null  float64\n",
      " 15  Ontario Average/Moyenne provinciale            10238 non-null  float64\n",
      " 16  Southern Average/Moyenne du sud de l'Ontario   10238 non-null  float64\n",
      " 17  Northern Average/Moyenne du nord de l'Ontario  10238 non-null  float64\n",
      " 18  Fuel Type                                      10238 non-null  object \n",
      "dtypes: float64(17), object(2)\n",
      "memory usage: 1.5+ MB\n"
     ]
    }
   ],
   "source": [
    "fp_df.info()"
   ]
  },
  {
   "cell_type": "markdown",
   "id": "746ceaa7-ec2c-4f1b-addd-045c0246f040",
   "metadata": {},
   "source": [
    "Generating median fuel price for each week"
   ]
  },
  {
   "cell_type": "code",
   "execution_count": 15,
   "id": "e9119133-2ed4-46b6-a8f7-a627b688c265",
   "metadata": {},
   "outputs": [],
   "source": [
    "fp_df['weekly_price_median'] = fp_df.iloc[:, 1:18].aggregate(\"median\", axis=\"columns\", numeric_only=True)"
   ]
  },
  {
   "cell_type": "code",
   "execution_count": 16,
   "id": "9126009a-50cb-42ec-93bc-eca80ced056a",
   "metadata": {
    "tags": []
   },
   "outputs": [
    {
     "data": {
      "text/html": [
       "<div>\n",
       "<style scoped>\n",
       "    .dataframe tbody tr th:only-of-type {\n",
       "        vertical-align: middle;\n",
       "    }\n",
       "\n",
       "    .dataframe tbody tr th {\n",
       "        vertical-align: top;\n",
       "    }\n",
       "\n",
       "    .dataframe thead th {\n",
       "        text-align: right;\n",
       "    }\n",
       "</style>\n",
       "<table border=\"1\" class=\"dataframe\">\n",
       "  <thead>\n",
       "    <tr style=\"text-align: right;\">\n",
       "      <th></th>\n",
       "      <th>Date</th>\n",
       "      <th>Ottawa</th>\n",
       "      <th>Toronto West/Ouest</th>\n",
       "      <th>Toronto East/Est</th>\n",
       "      <th>Windsor</th>\n",
       "      <th>London</th>\n",
       "      <th>Peterborough</th>\n",
       "      <th>St. Catharine's</th>\n",
       "      <th>Sudbury</th>\n",
       "      <th>Sault Saint Marie</th>\n",
       "      <th>Thunder Bay</th>\n",
       "      <th>North Bay</th>\n",
       "      <th>Timmins</th>\n",
       "      <th>Kenora</th>\n",
       "      <th>Parry Sound</th>\n",
       "      <th>Ontario Average/Moyenne provinciale</th>\n",
       "      <th>Southern Average/Moyenne du sud de l'Ontario</th>\n",
       "      <th>Northern Average/Moyenne du nord de l'Ontario</th>\n",
       "      <th>Fuel Type</th>\n",
       "      <th>weekly_price_median</th>\n",
       "    </tr>\n",
       "  </thead>\n",
       "  <tbody>\n",
       "    <tr>\n",
       "      <th>0</th>\n",
       "      <td>1990-01-03</td>\n",
       "      <td>55.9</td>\n",
       "      <td>49.1</td>\n",
       "      <td>48.7</td>\n",
       "      <td>45.2</td>\n",
       "      <td>50.1</td>\n",
       "      <td>0.0</td>\n",
       "      <td>0.0</td>\n",
       "      <td>56.4</td>\n",
       "      <td>54.8</td>\n",
       "      <td>56.6</td>\n",
       "      <td>55.1</td>\n",
       "      <td>58.1</td>\n",
       "      <td>0.0</td>\n",
       "      <td>0.0</td>\n",
       "      <td>50.3</td>\n",
       "      <td>49.5</td>\n",
       "      <td>56.2</td>\n",
       "      <td>Regular Unleaded Gasoline</td>\n",
       "      <td>50.1</td>\n",
       "    </tr>\n",
       "    <tr>\n",
       "      <th>1</th>\n",
       "      <td>1990-01-10</td>\n",
       "      <td>55.9</td>\n",
       "      <td>47.7</td>\n",
       "      <td>46.8</td>\n",
       "      <td>49.7</td>\n",
       "      <td>47.6</td>\n",
       "      <td>0.0</td>\n",
       "      <td>0.0</td>\n",
       "      <td>56.4</td>\n",
       "      <td>54.9</td>\n",
       "      <td>56.8</td>\n",
       "      <td>55.0</td>\n",
       "      <td>58.2</td>\n",
       "      <td>0.0</td>\n",
       "      <td>0.0</td>\n",
       "      <td>49.2</td>\n",
       "      <td>48.3</td>\n",
       "      <td>56.2</td>\n",
       "      <td>Regular Unleaded Gasoline</td>\n",
       "      <td>49.2</td>\n",
       "    </tr>\n",
       "    <tr>\n",
       "      <th>2</th>\n",
       "      <td>1990-01-17</td>\n",
       "      <td>55.9</td>\n",
       "      <td>53.2</td>\n",
       "      <td>53.2</td>\n",
       "      <td>49.6</td>\n",
       "      <td>53.7</td>\n",
       "      <td>0.0</td>\n",
       "      <td>0.0</td>\n",
       "      <td>55.8</td>\n",
       "      <td>54.9</td>\n",
       "      <td>56.8</td>\n",
       "      <td>54.4</td>\n",
       "      <td>58.2</td>\n",
       "      <td>0.0</td>\n",
       "      <td>0.0</td>\n",
       "      <td>53.6</td>\n",
       "      <td>53.3</td>\n",
       "      <td>56.0</td>\n",
       "      <td>Regular Unleaded Gasoline</td>\n",
       "      <td>53.6</td>\n",
       "    </tr>\n",
       "    <tr>\n",
       "      <th>3</th>\n",
       "      <td>1990-01-24</td>\n",
       "      <td>55.9</td>\n",
       "      <td>53.2</td>\n",
       "      <td>53.5</td>\n",
       "      <td>49.0</td>\n",
       "      <td>52.1</td>\n",
       "      <td>0.0</td>\n",
       "      <td>0.0</td>\n",
       "      <td>55.7</td>\n",
       "      <td>54.9</td>\n",
       "      <td>56.8</td>\n",
       "      <td>54.3</td>\n",
       "      <td>58.2</td>\n",
       "      <td>0.0</td>\n",
       "      <td>0.0</td>\n",
       "      <td>53.5</td>\n",
       "      <td>53.2</td>\n",
       "      <td>56.0</td>\n",
       "      <td>Regular Unleaded Gasoline</td>\n",
       "      <td>53.5</td>\n",
       "    </tr>\n",
       "    <tr>\n",
       "      <th>4</th>\n",
       "      <td>1990-01-31</td>\n",
       "      <td>55.9</td>\n",
       "      <td>51.9</td>\n",
       "      <td>52.6</td>\n",
       "      <td>48.6</td>\n",
       "      <td>49.1</td>\n",
       "      <td>0.0</td>\n",
       "      <td>0.0</td>\n",
       "      <td>55.6</td>\n",
       "      <td>54.8</td>\n",
       "      <td>56.8</td>\n",
       "      <td>54.2</td>\n",
       "      <td>58.1</td>\n",
       "      <td>0.0</td>\n",
       "      <td>0.0</td>\n",
       "      <td>52.5</td>\n",
       "      <td>52.1</td>\n",
       "      <td>55.9</td>\n",
       "      <td>Regular Unleaded Gasoline</td>\n",
       "      <td>52.5</td>\n",
       "    </tr>\n",
       "  </tbody>\n",
       "</table>\n",
       "</div>"
      ],
      "text/plain": [
       "         Date  Ottawa  Toronto West/Ouest  Toronto East/Est  Windsor  London  \\\n",
       "0  1990-01-03    55.9                49.1              48.7     45.2    50.1   \n",
       "1  1990-01-10    55.9                47.7              46.8     49.7    47.6   \n",
       "2  1990-01-17    55.9                53.2              53.2     49.6    53.7   \n",
       "3  1990-01-24    55.9                53.2              53.5     49.0    52.1   \n",
       "4  1990-01-31    55.9                51.9              52.6     48.6    49.1   \n",
       "\n",
       "   Peterborough  St. Catharine's  Sudbury  Sault Saint Marie  Thunder Bay  \\\n",
       "0           0.0              0.0     56.4               54.8         56.6   \n",
       "1           0.0              0.0     56.4               54.9         56.8   \n",
       "2           0.0              0.0     55.8               54.9         56.8   \n",
       "3           0.0              0.0     55.7               54.9         56.8   \n",
       "4           0.0              0.0     55.6               54.8         56.8   \n",
       "\n",
       "   North Bay  Timmins  Kenora  Parry Sound  \\\n",
       "0       55.1     58.1     0.0          0.0   \n",
       "1       55.0     58.2     0.0          0.0   \n",
       "2       54.4     58.2     0.0          0.0   \n",
       "3       54.3     58.2     0.0          0.0   \n",
       "4       54.2     58.1     0.0          0.0   \n",
       "\n",
       "   Ontario Average/Moyenne provinciale  \\\n",
       "0                                 50.3   \n",
       "1                                 49.2   \n",
       "2                                 53.6   \n",
       "3                                 53.5   \n",
       "4                                 52.5   \n",
       "\n",
       "   Southern Average/Moyenne du sud de l'Ontario  \\\n",
       "0                                          49.5   \n",
       "1                                          48.3   \n",
       "2                                          53.3   \n",
       "3                                          53.2   \n",
       "4                                          52.1   \n",
       "\n",
       "   Northern Average/Moyenne du nord de l'Ontario                  Fuel Type  \\\n",
       "0                                           56.2  Regular Unleaded Gasoline   \n",
       "1                                           56.2  Regular Unleaded Gasoline   \n",
       "2                                           56.0  Regular Unleaded Gasoline   \n",
       "3                                           56.0  Regular Unleaded Gasoline   \n",
       "4                                           55.9  Regular Unleaded Gasoline   \n",
       "\n",
       "   weekly_price_median  \n",
       "0                 50.1  \n",
       "1                 49.2  \n",
       "2                 53.6  \n",
       "3                 53.5  \n",
       "4                 52.5  "
      ]
     },
     "execution_count": 16,
     "metadata": {},
     "output_type": "execute_result"
    }
   ],
   "source": [
    "fp_df.head()"
   ]
  },
  {
   "cell_type": "code",
   "execution_count": 17,
   "id": "f019ea58-85e0-4215-97d2-b1731bbbf228",
   "metadata": {
    "tags": []
   },
   "outputs": [
    {
     "name": "stdout",
     "output_type": "stream",
     "text": [
      "<class 'pandas.core.frame.DataFrame'>\n",
      "RangeIndex: 10238 entries, 0 to 10237\n",
      "Data columns (total 21 columns):\n",
      " #   Column                                         Non-Null Count  Dtype  \n",
      "---  ------                                         --------------  -----  \n",
      " 0   Date                                           10238 non-null  object \n",
      " 1   Ottawa                                         10238 non-null  float64\n",
      " 2   Toronto West/Ouest                             10238 non-null  float64\n",
      " 3   Toronto East/Est                               10238 non-null  float64\n",
      " 4   Windsor                                        10238 non-null  float64\n",
      " 5   London                                         10238 non-null  float64\n",
      " 6   Peterborough                                   10238 non-null  float64\n",
      " 7   St. Catharine's                                10238 non-null  float64\n",
      " 8   Sudbury                                        10238 non-null  float64\n",
      " 9   Sault Saint Marie                              10238 non-null  float64\n",
      " 10  Thunder Bay                                    10238 non-null  float64\n",
      " 11  North Bay                                      10238 non-null  float64\n",
      " 12  Timmins                                        10238 non-null  float64\n",
      " 13  Kenora                                         10238 non-null  float64\n",
      " 14  Parry Sound                                    10238 non-null  float64\n",
      " 15  Ontario Average/Moyenne provinciale            10238 non-null  float64\n",
      " 16  Southern Average/Moyenne du sud de l'Ontario   10238 non-null  float64\n",
      " 17  Northern Average/Moyenne du nord de l'Ontario  10238 non-null  float64\n",
      " 18  Fuel Type                                      10238 non-null  object \n",
      " 19  weekly_price_median                            10238 non-null  float64\n",
      " 20  year                                           10238 non-null  int64  \n",
      "dtypes: float64(18), int64(1), object(2)\n",
      "memory usage: 1.6+ MB\n"
     ]
    }
   ],
   "source": [
    "fp_df['year'] = fp_df['Date'].map(lambda x: x[0:4]).astype(nm.int64)\n",
    "fp_df.info()"
   ]
  },
  {
   "cell_type": "markdown",
   "id": "8a9482e7-55a5-414b-8398-93d96e0f38c2",
   "metadata": {},
   "source": [
    "Generate the median fuel price for each year, by fuel type"
   ]
  },
  {
   "cell_type": "code",
   "execution_count": 18,
   "id": "00427aa6-dafb-4a4f-9c35-39473d3043de",
   "metadata": {},
   "outputs": [],
   "source": [
    "fp_df = fp_df.groupby(['year', 'Fuel Type']).agg({'weekly_price_median': 'median'})\n",
    "fp_df.columns = [\"price\"]"
   ]
  },
  {
   "cell_type": "code",
   "execution_count": 19,
   "id": "b8418ee2-23ca-4a13-80f9-30f449c03fb8",
   "metadata": {},
   "outputs": [],
   "source": [
    "fp_df.reset_index(inplace=True)"
   ]
  },
  {
   "cell_type": "code",
   "execution_count": 20,
   "id": "4e759c4a-2468-4deb-86de-1eaaea1b9c68",
   "metadata": {},
   "outputs": [
    {
     "data": {
      "text/html": [
       "<div>\n",
       "<style scoped>\n",
       "    .dataframe tbody tr th:only-of-type {\n",
       "        vertical-align: middle;\n",
       "    }\n",
       "\n",
       "    .dataframe tbody tr th {\n",
       "        vertical-align: top;\n",
       "    }\n",
       "\n",
       "    .dataframe thead th {\n",
       "        text-align: right;\n",
       "    }\n",
       "</style>\n",
       "<table border=\"1\" class=\"dataframe\">\n",
       "  <thead>\n",
       "    <tr style=\"text-align: right;\">\n",
       "      <th></th>\n",
       "      <th>year</th>\n",
       "      <th>Fuel Type</th>\n",
       "      <th>price</th>\n",
       "    </tr>\n",
       "  </thead>\n",
       "  <tbody>\n",
       "    <tr>\n",
       "      <th>0</th>\n",
       "      <td>1990</td>\n",
       "      <td>Auto Propane</td>\n",
       "      <td>32.25</td>\n",
       "    </tr>\n",
       "    <tr>\n",
       "      <th>1</th>\n",
       "      <td>1990</td>\n",
       "      <td>Compressed Natural Gas</td>\n",
       "      <td>0.00</td>\n",
       "    </tr>\n",
       "    <tr>\n",
       "      <th>2</th>\n",
       "      <td>1990</td>\n",
       "      <td>Diesel</td>\n",
       "      <td>47.30</td>\n",
       "    </tr>\n",
       "    <tr>\n",
       "      <th>3</th>\n",
       "      <td>1990</td>\n",
       "      <td>Mid-Grade Gasoline</td>\n",
       "      <td>57.60</td>\n",
       "    </tr>\n",
       "    <tr>\n",
       "      <th>4</th>\n",
       "      <td>1990</td>\n",
       "      <td>Premium Gasoline</td>\n",
       "      <td>59.75</td>\n",
       "    </tr>\n",
       "  </tbody>\n",
       "</table>\n",
       "</div>"
      ],
      "text/plain": [
       "   year               Fuel Type  price\n",
       "0  1990            Auto Propane  32.25\n",
       "1  1990  Compressed Natural Gas   0.00\n",
       "2  1990                  Diesel  47.30\n",
       "3  1990      Mid-Grade Gasoline  57.60\n",
       "4  1990        Premium Gasoline  59.75"
      ]
     },
     "execution_count": 20,
     "metadata": {},
     "output_type": "execute_result"
    }
   ],
   "source": [
    "fp_df.head()"
   ]
  },
  {
   "cell_type": "code",
   "execution_count": 21,
   "id": "823ab40f-b447-4cb4-af38-445d0b9cecba",
   "metadata": {},
   "outputs": [
    {
     "name": "stdout",
     "output_type": "stream",
     "text": [
      "<class 'pandas.core.frame.DataFrame'>\n",
      "RangeIndex: 197 entries, 0 to 196\n",
      "Data columns (total 3 columns):\n",
      " #   Column     Non-Null Count  Dtype  \n",
      "---  ------     --------------  -----  \n",
      " 0   year       197 non-null    int64  \n",
      " 1   Fuel Type  197 non-null    object \n",
      " 2   price      197 non-null    float64\n",
      "dtypes: float64(1), int64(1), object(1)\n",
      "memory usage: 4.7+ KB\n"
     ]
    }
   ],
   "source": [
    "fp_df.info()"
   ]
  },
  {
   "cell_type": "code",
   "execution_count": 22,
   "id": "3cecd87f-dbc0-44a6-aabc-bfde9e3fd103",
   "metadata": {},
   "outputs": [
    {
     "data": {
      "text/plain": [
       "array(['Auto Propane', 'Compressed Natural Gas', 'Diesel',\n",
       "       'Mid-Grade Gasoline', 'Premium Gasoline',\n",
       "       'Regular Unleaded Gasoline'], dtype=object)"
      ]
     },
     "execution_count": 22,
     "metadata": {},
     "output_type": "execute_result"
    }
   ],
   "source": [
    "fp_df['Fuel Type'].unique()"
   ]
  },
  {
   "cell_type": "markdown",
   "id": "079b157c-b8bf-4857-b781-152c2e06963b",
   "metadata": {},
   "source": [
    "Filter out the Fuel Types to only include \"Compressed Natural Gas\",\"Diesel\",\"Premium Gasoline\",\"Regular Unleaded Gasoline\""
   ]
  },
  {
   "cell_type": "code",
   "execution_count": 23,
   "id": "b3213307-38d8-4d28-91e0-4a9c9d7e2203",
   "metadata": {},
   "outputs": [],
   "source": [
    "filter = fp_df['Fuel Type'].isin([\"Compressed Natural Gas\",\"Diesel\",\"Premium Gasoline\",\"Regular Unleaded Gasoline\"])"
   ]
  },
  {
   "cell_type": "code",
   "execution_count": 24,
   "id": "dba5be1d-3186-42e8-ad52-c3ef0f530976",
   "metadata": {},
   "outputs": [
    {
     "data": {
      "text/plain": [
       "array(['Compressed Natural Gas', 'Diesel', 'Premium Gasoline',\n",
       "       'Regular Unleaded Gasoline'], dtype=object)"
      ]
     },
     "execution_count": 24,
     "metadata": {},
     "output_type": "execute_result"
    }
   ],
   "source": [
    "fp_df[filter]['Fuel Type'].unique()"
   ]
  },
  {
   "cell_type": "code",
   "execution_count": 25,
   "id": "77a0ebc9-b445-475b-9f53-897384b680b1",
   "metadata": {},
   "outputs": [],
   "source": [
    "fp_df = fp_df[filter]"
   ]
  },
  {
   "cell_type": "code",
   "execution_count": 26,
   "id": "dcef5b13-c075-4312-84ff-9791063cba24",
   "metadata": {},
   "outputs": [],
   "source": [
    "fp_df_columns = [\"year\", \"fuel_type\", \"price\"]"
   ]
  },
  {
   "cell_type": "code",
   "execution_count": 27,
   "id": "7b43a5e5-2143-4b5c-800b-b6500c6c5915",
   "metadata": {},
   "outputs": [],
   "source": [
    "fp_df.columns = fp_df_columns"
   ]
  },
  {
   "cell_type": "code",
   "execution_count": 28,
   "id": "3c8754ba-161c-4463-8da9-31ed301581ca",
   "metadata": {},
   "outputs": [
    {
     "name": "stdout",
     "output_type": "stream",
     "text": [
      "<class 'pandas.core.frame.DataFrame'>\n",
      "Int64Index: 131 entries, 1 to 196\n",
      "Data columns (total 3 columns):\n",
      " #   Column     Non-Null Count  Dtype  \n",
      "---  ------     --------------  -----  \n",
      " 0   year       131 non-null    int64  \n",
      " 1   fuel_type  131 non-null    object \n",
      " 2   price      131 non-null    float64\n",
      "dtypes: float64(1), int64(1), object(1)\n",
      "memory usage: 4.1+ KB\n"
     ]
    }
   ],
   "source": [
    "fp_df.info()"
   ]
  },
  {
   "cell_type": "code",
   "execution_count": 29,
   "id": "61ed1cb9-eea2-4998-bba4-56c20b186e86",
   "metadata": {},
   "outputs": [],
   "source": [
    "fp_df.to_csv(\"../data/fuel_prices.csv\", index=False)"
   ]
  }
 ],
 "metadata": {
  "kernelspec": {
   "display_name": "Python 3 (ipykernel)",
   "language": "python",
   "name": "python3"
  },
  "language_info": {
   "codemirror_mode": {
    "name": "ipython",
    "version": 3
   },
   "file_extension": ".py",
   "mimetype": "text/x-python",
   "name": "python",
   "nbconvert_exporter": "python",
   "pygments_lexer": "ipython3",
   "version": "3.11.1"
  }
 },
 "nbformat": 4,
 "nbformat_minor": 5
}
